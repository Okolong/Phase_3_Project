{
 "cells": [
  {
   "cell_type": "markdown",
   "metadata": {},
   "source": [
    "#### NAME: George Nyandusi\n",
    "#### CLASS: DSFT12-FULLTIME/HYBRID\n",
    "#### INSTRUCTOR: NIKITA NJOROGE"
   ]
  },
  {
   "cell_type": "markdown",
   "metadata": {},
   "source": [
    "## PHASE 3 PROJECT: SYRIATEL CUSTOMER CHURN ANALYSIS"
   ]
  },
  {
   "cell_type": "markdown",
   "metadata": {},
   "source": [
    "### OVERVIEW\n",
    "\n",
    "The telecommunications industry is an ever changing community and retaining customers is crucial for the going concern of the business. We can describe customer churn as a situation where customers discontinue their subscription for various reasons and this directly affects the business by eating into its revenue stream and also market cap.\n",
    "\n"
   ]
  },
  {
   "cell_type": "markdown",
   "metadata": {},
   "source": [
    "### BUSINESS UNDERSTANDING\n",
    "\n",
    "SyriaTel is a telecommunications company that strives to give the best service to its clientele. the company has achieved this by  by focusing on customer satisfaction and social responsibility. Syriatel believes that its first responsibility is to offer its customers, a wide array of high quality products and services which meet their needs and make their life easier at reasonable prices.\n",
    "This project aims to analyse customer churn percentage together with reasons why the customers stopped their subscription. This will help the management of SyriaTel,who are our stakeholder to cut down the losses made by understanding the reasons behind them. It will also be important in finding the factors that greatly influence customer churn."
   ]
  },
  {
   "cell_type": "markdown",
   "metadata": {},
   "source": [
    "### PROJECT OBJECTIVES\n",
    "\n",
    "1.To develop a model that will help in predicting if a customer churns or not based on various attributes.\n",
    "\n",
    "2.To identify the attributes that heavily impact if a customer is likely to churn."
   ]
  },
  {
   "cell_type": "markdown",
   "metadata": {},
   "source": [
    "### DATA UNDERSTANDING\n",
    "\n",
    "The data for the project was obtained from the Kaggle website: https://www.kaggle.com/datasets/becksddf/churn-in-telecoms-dataset\n",
    "\n",
    "This dataset consists of a single csv file: bigml.csv\n",
    "\n",
    "The dataset has several attributes:\n",
    "\n",
    "Dataset has 21 variables. Namely:\n",
    "\n",
    " 'state', 'account length', 'area code', 'phone number',\n",
    " 'international plan', 'voice mail plan', 'number vmail messages',\n",
    " 'total day minutes', 'total day calls', 'total day charge',\n",
    " 'total eve minutes', 'total eve calls', 'total eve charge',\n",
    " 'total night minutes', 'total night calls', 'total night charge',\n",
    " 'total intl minutes', 'total intl calls', 'total intl charge',\n",
    " 'customer service calls', 'churn'\n",
    " \n",
    "The target variable in this case is churn where false(0) represents a customer not quiting SyriaTel's services while true(1) represents a customer quiting the services.\n"
   ]
  },
  {
   "cell_type": "markdown",
   "metadata": {},
   "source": [
    "##### Importing the Data"
   ]
  },
  {
   "cell_type": "code",
   "execution_count": 1,
   "metadata": {},
   "outputs": [],
   "source": [
    "# import the necessary libraries\n",
    "# Data Manipulation and Analysis\n",
    "import pandas as pd\n",
    "import numpy as np\n",
    "\n",
    "# Data Visualization\n",
    "import matplotlib.pyplot as plt\n",
    "import seaborn as sns\n",
    "\n",
    "# Data Preprocessing\n",
    "from sklearn.preprocessing import MinMaxScaler, StandardScaler, LabelEncoder, OneHotEncoder\n",
    "from sklearn.pipeline import Pipeline\n",
    "from sklearn.compose import ColumnTransformer\n",
    "\n",
    "# Machine Learning Models\n",
    "from sklearn.ensemble import RandomForestClassifier \n",
    "from sklearn.linear_model import LogisticRegression  \n",
    "from sklearn.tree import DecisionTreeClassifier\n",
    "\n",
    "\n",
    "# Model Evaluation\n",
    "from sklearn.metrics import accuracy_score, f1_score, recall_score, classification_report\n",
    "from sklearn.metrics import  plot_confusion_matrix, roc_curve, roc_auc_score, precision_score, auc  \n",
    "from sklearn.model_selection import cross_val_score, KFold, train_test_split\n",
    "from sklearn.tree import DecisionTreeClassifier\n",
    "\n",
    "\n",
    "# Hyperparameter Tuning\n",
    "from sklearn.model_selection import GridSearchCV\n",
    "from sklearn.model_selection import RandomizedSearchCV\n",
    "from scipy.stats import randint\n",
    "\n",
    "# Handling Imbalanced Data\n",
    "from imblearn.over_sampling import SMOTE\n",
    "\n",
    "# Filter future Warnings\n",
    "import warnings\n",
    "warnings.filterwarnings(\"ignore\")"
   ]
  },
  {
   "cell_type": "code",
   "execution_count": 2,
   "metadata": {},
   "outputs": [
    {
     "data": {
      "text/html": [
       "<div>\n",
       "<style scoped>\n",
       "    .dataframe tbody tr th:only-of-type {\n",
       "        vertical-align: middle;\n",
       "    }\n",
       "\n",
       "    .dataframe tbody tr th {\n",
       "        vertical-align: top;\n",
       "    }\n",
       "\n",
       "    .dataframe thead th {\n",
       "        text-align: right;\n",
       "    }\n",
       "</style>\n",
       "<table border=\"1\" class=\"dataframe\">\n",
       "  <thead>\n",
       "    <tr style=\"text-align: right;\">\n",
       "      <th></th>\n",
       "      <th>state</th>\n",
       "      <th>account length</th>\n",
       "      <th>area code</th>\n",
       "      <th>phone number</th>\n",
       "      <th>international plan</th>\n",
       "      <th>voice mail plan</th>\n",
       "      <th>number vmail messages</th>\n",
       "      <th>total day minutes</th>\n",
       "      <th>total day calls</th>\n",
       "      <th>total day charge</th>\n",
       "      <th>...</th>\n",
       "      <th>total eve calls</th>\n",
       "      <th>total eve charge</th>\n",
       "      <th>total night minutes</th>\n",
       "      <th>total night calls</th>\n",
       "      <th>total night charge</th>\n",
       "      <th>total intl minutes</th>\n",
       "      <th>total intl calls</th>\n",
       "      <th>total intl charge</th>\n",
       "      <th>customer service calls</th>\n",
       "      <th>churn</th>\n",
       "    </tr>\n",
       "  </thead>\n",
       "  <tbody>\n",
       "    <tr>\n",
       "      <th>0</th>\n",
       "      <td>KS</td>\n",
       "      <td>128</td>\n",
       "      <td>415</td>\n",
       "      <td>382-4657</td>\n",
       "      <td>no</td>\n",
       "      <td>yes</td>\n",
       "      <td>25</td>\n",
       "      <td>265.1</td>\n",
       "      <td>110</td>\n",
       "      <td>45.07</td>\n",
       "      <td>...</td>\n",
       "      <td>99</td>\n",
       "      <td>16.78</td>\n",
       "      <td>244.7</td>\n",
       "      <td>91</td>\n",
       "      <td>11.01</td>\n",
       "      <td>10.0</td>\n",
       "      <td>3</td>\n",
       "      <td>2.70</td>\n",
       "      <td>1</td>\n",
       "      <td>False</td>\n",
       "    </tr>\n",
       "    <tr>\n",
       "      <th>1</th>\n",
       "      <td>OH</td>\n",
       "      <td>107</td>\n",
       "      <td>415</td>\n",
       "      <td>371-7191</td>\n",
       "      <td>no</td>\n",
       "      <td>yes</td>\n",
       "      <td>26</td>\n",
       "      <td>161.6</td>\n",
       "      <td>123</td>\n",
       "      <td>27.47</td>\n",
       "      <td>...</td>\n",
       "      <td>103</td>\n",
       "      <td>16.62</td>\n",
       "      <td>254.4</td>\n",
       "      <td>103</td>\n",
       "      <td>11.45</td>\n",
       "      <td>13.7</td>\n",
       "      <td>3</td>\n",
       "      <td>3.70</td>\n",
       "      <td>1</td>\n",
       "      <td>False</td>\n",
       "    </tr>\n",
       "    <tr>\n",
       "      <th>2</th>\n",
       "      <td>NJ</td>\n",
       "      <td>137</td>\n",
       "      <td>415</td>\n",
       "      <td>358-1921</td>\n",
       "      <td>no</td>\n",
       "      <td>no</td>\n",
       "      <td>0</td>\n",
       "      <td>243.4</td>\n",
       "      <td>114</td>\n",
       "      <td>41.38</td>\n",
       "      <td>...</td>\n",
       "      <td>110</td>\n",
       "      <td>10.30</td>\n",
       "      <td>162.6</td>\n",
       "      <td>104</td>\n",
       "      <td>7.32</td>\n",
       "      <td>12.2</td>\n",
       "      <td>5</td>\n",
       "      <td>3.29</td>\n",
       "      <td>0</td>\n",
       "      <td>False</td>\n",
       "    </tr>\n",
       "    <tr>\n",
       "      <th>3</th>\n",
       "      <td>OH</td>\n",
       "      <td>84</td>\n",
       "      <td>408</td>\n",
       "      <td>375-9999</td>\n",
       "      <td>yes</td>\n",
       "      <td>no</td>\n",
       "      <td>0</td>\n",
       "      <td>299.4</td>\n",
       "      <td>71</td>\n",
       "      <td>50.90</td>\n",
       "      <td>...</td>\n",
       "      <td>88</td>\n",
       "      <td>5.26</td>\n",
       "      <td>196.9</td>\n",
       "      <td>89</td>\n",
       "      <td>8.86</td>\n",
       "      <td>6.6</td>\n",
       "      <td>7</td>\n",
       "      <td>1.78</td>\n",
       "      <td>2</td>\n",
       "      <td>False</td>\n",
       "    </tr>\n",
       "    <tr>\n",
       "      <th>4</th>\n",
       "      <td>OK</td>\n",
       "      <td>75</td>\n",
       "      <td>415</td>\n",
       "      <td>330-6626</td>\n",
       "      <td>yes</td>\n",
       "      <td>no</td>\n",
       "      <td>0</td>\n",
       "      <td>166.7</td>\n",
       "      <td>113</td>\n",
       "      <td>28.34</td>\n",
       "      <td>...</td>\n",
       "      <td>122</td>\n",
       "      <td>12.61</td>\n",
       "      <td>186.9</td>\n",
       "      <td>121</td>\n",
       "      <td>8.41</td>\n",
       "      <td>10.1</td>\n",
       "      <td>3</td>\n",
       "      <td>2.73</td>\n",
       "      <td>3</td>\n",
       "      <td>False</td>\n",
       "    </tr>\n",
       "  </tbody>\n",
       "</table>\n",
       "<p>5 rows × 21 columns</p>\n",
       "</div>"
      ],
      "text/plain": [
       "  state  account length  area code phone number international plan  \\\n",
       "0    KS             128        415     382-4657                 no   \n",
       "1    OH             107        415     371-7191                 no   \n",
       "2    NJ             137        415     358-1921                 no   \n",
       "3    OH              84        408     375-9999                yes   \n",
       "4    OK              75        415     330-6626                yes   \n",
       "\n",
       "  voice mail plan  number vmail messages  total day minutes  total day calls  \\\n",
       "0             yes                     25              265.1              110   \n",
       "1             yes                     26              161.6              123   \n",
       "2              no                      0              243.4              114   \n",
       "3              no                      0              299.4               71   \n",
       "4              no                      0              166.7              113   \n",
       "\n",
       "   total day charge  ...  total eve calls  total eve charge  \\\n",
       "0             45.07  ...               99             16.78   \n",
       "1             27.47  ...              103             16.62   \n",
       "2             41.38  ...              110             10.30   \n",
       "3             50.90  ...               88              5.26   \n",
       "4             28.34  ...              122             12.61   \n",
       "\n",
       "   total night minutes  total night calls  total night charge  \\\n",
       "0                244.7                 91               11.01   \n",
       "1                254.4                103               11.45   \n",
       "2                162.6                104                7.32   \n",
       "3                196.9                 89                8.86   \n",
       "4                186.9                121                8.41   \n",
       "\n",
       "   total intl minutes  total intl calls  total intl charge  \\\n",
       "0                10.0                 3               2.70   \n",
       "1                13.7                 3               3.70   \n",
       "2                12.2                 5               3.29   \n",
       "3                 6.6                 7               1.78   \n",
       "4                10.1                 3               2.73   \n",
       "\n",
       "   customer service calls  churn  \n",
       "0                       1  False  \n",
       "1                       1  False  \n",
       "2                       0  False  \n",
       "3                       2  False  \n",
       "4                       3  False  \n",
       "\n",
       "[5 rows x 21 columns]"
      ]
     },
     "execution_count": 2,
     "metadata": {},
     "output_type": "execute_result"
    }
   ],
   "source": [
    "# Loading the data \n",
    "df = pd.read_csv('bigml_59c28831336c6604c800002a.csv')\n",
    "df.head()"
   ]
  },
  {
   "cell_type": "code",
   "execution_count": 3,
   "metadata": {},
   "outputs": [
    {
     "name": "stdout",
     "output_type": "stream",
     "text": [
      "<class 'pandas.core.frame.DataFrame'>\n",
      "RangeIndex: 3333 entries, 0 to 3332\n",
      "Data columns (total 21 columns):\n",
      " #   Column                  Non-Null Count  Dtype  \n",
      "---  ------                  --------------  -----  \n",
      " 0   state                   3333 non-null   object \n",
      " 1   account length          3333 non-null   int64  \n",
      " 2   area code               3333 non-null   int64  \n",
      " 3   phone number            3333 non-null   object \n",
      " 4   international plan      3333 non-null   object \n",
      " 5   voice mail plan         3333 non-null   object \n",
      " 6   number vmail messages   3333 non-null   int64  \n",
      " 7   total day minutes       3333 non-null   float64\n",
      " 8   total day calls         3333 non-null   int64  \n",
      " 9   total day charge        3333 non-null   float64\n",
      " 10  total eve minutes       3333 non-null   float64\n",
      " 11  total eve calls         3333 non-null   int64  \n",
      " 12  total eve charge        3333 non-null   float64\n",
      " 13  total night minutes     3333 non-null   float64\n",
      " 14  total night calls       3333 non-null   int64  \n",
      " 15  total night charge      3333 non-null   float64\n",
      " 16  total intl minutes      3333 non-null   float64\n",
      " 17  total intl calls        3333 non-null   int64  \n",
      " 18  total intl charge       3333 non-null   float64\n",
      " 19  customer service calls  3333 non-null   int64  \n",
      " 20  churn                   3333 non-null   bool   \n",
      "dtypes: bool(1), float64(8), int64(8), object(4)\n",
      "memory usage: 524.2+ KB\n"
     ]
    }
   ],
   "source": [
    "df.info()"
   ]
  },
  {
   "cell_type": "code",
   "execution_count": 4,
   "metadata": {},
   "outputs": [
    {
     "data": {
      "text/plain": [
       "(3333, 21)"
      ]
     },
     "execution_count": 4,
     "metadata": {},
     "output_type": "execute_result"
    }
   ],
   "source": [
    "# Knowing the number of records\n",
    "df.shape"
   ]
  },
  {
   "cell_type": "markdown",
   "metadata": {},
   "source": [
    "from above, we can tell that the dataset has 3333 rows and 21 columns."
   ]
  },
  {
   "cell_type": "markdown",
   "metadata": {},
   "source": [
    "###  DATA PREPARATION\n",
    "#### Data Cleaning"
   ]
  },
  {
   "cell_type": "code",
   "execution_count": 5,
   "metadata": {},
   "outputs": [
    {
     "name": "stdout",
     "output_type": "stream",
     "text": [
      "Duplicated values: 0\n"
     ]
    }
   ],
   "source": [
    "\n",
    "# Looking for duplicates\n",
    "duplicate_values = df.duplicated().sum()\n",
    "print (f'Duplicated values:', duplicate_values)\n"
   ]
  },
  {
   "cell_type": "code",
   "execution_count": 6,
   "metadata": {},
   "outputs": [
    {
     "name": "stdout",
     "output_type": "stream",
     "text": [
      "missing values: state                     0\n",
      "account length            0\n",
      "area code                 0\n",
      "phone number              0\n",
      "international plan        0\n",
      "voice mail plan           0\n",
      "number vmail messages     0\n",
      "total day minutes         0\n",
      "total day calls           0\n",
      "total day charge          0\n",
      "total eve minutes         0\n",
      "total eve calls           0\n",
      "total eve charge          0\n",
      "total night minutes       0\n",
      "total night calls         0\n",
      "total night charge        0\n",
      "total intl minutes        0\n",
      "total intl calls          0\n",
      "total intl charge         0\n",
      "customer service calls    0\n",
      "churn                     0\n",
      "dtype: int64\n"
     ]
    }
   ],
   "source": [
    "# checking for missing values\n",
    "missing_values = df.isna().sum()\n",
    "print(f'missing values:', missing_values)"
   ]
  },
  {
   "cell_type": "markdown",
   "metadata": {},
   "source": [
    "The dataset has no duplicates and no missing values"
   ]
  },
  {
   "cell_type": "markdown",
   "metadata": {},
   "source": [
    "### EXPLORATORY DATA ANALYSIS\n",
    "In this section, the data is analysed using various techniques and thie helps in feature engineering and model building"
   ]
  },
  {
   "cell_type": "markdown",
   "metadata": {},
   "source": [
    "#### Churn and no churn"
   ]
  },
  {
   "cell_type": "code",
   "execution_count": 7,
   "metadata": {},
   "outputs": [
    {
     "data": {
      "image/png": "[encoded data removed]",
      "text/plain": [
       "<Figure size 432x288 with 1 Axes>"
      ]
     },
     "metadata": {
      "needs_background": "light"
     },
     "output_type": "display_data"
    }
   ],
   "source": [
    "# creating a churn graph\n",
    "churn = df['churn'].value_counts()\n",
    "sns.barplot(churn.index, churn.values)\n",
    "plt.title('Churn Frequency')\n",
    "plt.style.use('seaborn')\n",
    "plt.show()"
   ]
  },
  {
   "cell_type": "markdown",
   "metadata": {},
   "source": [
    "We can tell that the ratio of customers who churn is lower than that of those that remain "
   ]
  },
  {
   "cell_type": "markdown",
   "metadata": {},
   "source": [
    "#### Churn by Area Code"
   ]
  },
  {
   "cell_type": "code",
   "execution_count": 8,
   "metadata": {},
   "outputs": [
    {
     "data": {
      "image/png": "[encoded data removed]",
      "text/plain": [
       "<Figure size 360x360 with 1 Axes>"
      ]
     },
     "metadata": {},
     "output_type": "display_data"
    }
   ],
   "source": [
    "# Group by 'area code' and 'churn', count the occurrences, unstack to create a matrix suitable for plotting\n",
    "df.groupby([\"area code\", \"churn\"]).size().unstack().plot(\n",
    "    kind='bar', \n",
    "    stacked=True, \n",
    "    figsize=(5, 5)\n",
    ")\n",
    "\n",
    "# Adding labels and title for better understanding\n",
    "plt.xlabel('Area Code')\n",
    "plt.ylabel('Number of Customers')\n",
    "plt.title('Churn by Area Code')\n",
    "plt.xticks(rotation=45, ha='right')  # Rotate x-axis labels for better readability\n",
    "\n",
    "# Show the plot\n",
    "plt.show()"
   ]
  },
  {
   "cell_type": "markdown",
   "metadata": {},
   "source": [
    "From the graphabove we can deduct that areacode 415 has the highest churn percentage compared to 408 and 510"
   ]
  },
  {
   "cell_type": "markdown",
   "metadata": {},
   "source": [
    "##### Churn by state "
   ]
  },
  {
   "cell_type": "code",
   "execution_count": 9,
   "metadata": {},
   "outputs": [
    {
     "data": {
      "image/png": "[encoded data removed]",
      "text/plain": [
       "<Figure size 2160x720 with 1 Axes>"
      ]
     },
     "metadata": {},
     "output_type": "display_data"
    }
   ],
   "source": [
    "# Group by 'state' and 'churn', count the occurrences, unstack to create a matrix suitable for plotting\n",
    "df.groupby([\"state\", \"churn\"]).size().unstack().plot(\n",
    "    kind='bar', \n",
    "    stacked=True, \n",
    "    figsize=(30, 10)\n",
    ")\n",
    "\n",
    "# Adding labels and title for better understanding\n",
    "plt.xlabel('State')\n",
    "plt.ylabel('Number of Customers')\n",
    "plt.title('Churn by State')\n",
    "plt.xticks(rotation=45, ha='right')  # Rotate x-axis labels for better readability\n",
    "\n",
    "# Show the plot\n",
    "plt.show()"
   ]
  },
  {
   "cell_type": "markdown",
   "metadata": {},
   "source": [
    "##### Churn by customers with International plan"
   ]
  },
  {
   "cell_type": "code",
   "execution_count": 10,
   "metadata": {},
   "outputs": [
    {
     "data": {
      "image/png": "[encoded data removed]",
      "text/plain": [
       "<Figure size 360x360 with 1 Axes>"
      ]
     },
     "metadata": {},
     "output_type": "display_data"
    }
   ],
   "source": [
    "# Group by 'international plan' and 'churn', count the occurrences, unstack to prepare for plotting\n",
    "df.groupby([\"international plan\", \"churn\"]).size().unstack().plot(\n",
    "    kind='bar', \n",
    "    stacked=True, \n",
    "    figsize=(5, 5)\n",
    ")\n",
    "\n",
    "# Adding labels and title for better understanding\n",
    "plt.xlabel('International Plan')\n",
    "plt.ylabel('Number of Customers')\n",
    "plt.title('Churn by International Plan')\n",
    "plt.xticks(rotation=0)  # Keep the x-axis labels horizontal for better readability\n",
    "\n",
    "# Show the plot\n",
    "plt.show()"
   ]
  },
  {
   "cell_type": "markdown",
   "metadata": {},
   "source": [
    " From the graph above, we can see that customers with an international plan have a higher churn rate than those without"
   ]
  },
  {
   "cell_type": "markdown",
   "metadata": {},
   "source": [
    "##### Churn By Customers with Voice mail plan"
   ]
  },
  {
   "cell_type": "code",
   "execution_count": 11,
   "metadata": {},
   "outputs": [
    {
     "data": {
      "image/png": "[encoded data removed]",
      "text/plain": [
       "<Figure size 360x360 with 1 Axes>"
      ]
     },
     "metadata": {},
     "output_type": "display_data"
    }
   ],
   "source": [
    "# Group by 'voice mail plan' and 'churn', count the occurrences, unstack to prepare for plotting\n",
    "df.groupby([\"voice mail plan\", \"churn\"]).size().unstack().plot(\n",
    "    kind='bar', \n",
    "    stacked=True, \n",
    "    figsize=(5, 5)\n",
    ")\n",
    "\n",
    "# Adding labels and title for better understanding\n",
    "plt.xlabel('Voice Mail Plan')\n",
    "plt.ylabel('Number of Customers')\n",
    "plt.title('Churn by Voice Mail Plan')\n",
    "plt.xticks(rotation=0)  # Keep the x-axis labels horizontal for better readability\n",
    "\n",
    "# Show the plot\n",
    "plt.show()"
   ]
  },
  {
   "cell_type": "markdown",
   "metadata": {},
   "source": [
    "we can deduct that customers without a voice mail plan have a higher churn rate than those without."
   ]
  },
  {
   "cell_type": "markdown",
   "metadata": {},
   "source": [
    "##### Churn by customer Account length\n",
    "In this case we will convert the account length from days to months "
   ]
  },
  {
   "cell_type": "code",
   "execution_count": 12,
   "metadata": {},
   "outputs": [
    {
     "data": {
      "text/plain": [
       "Text(0, 0.5, 'Length count')"
      ]
     },
     "execution_count": 12,
     "metadata": {},
     "output_type": "execute_result"
    },
    {
     "data": {
      "image/png": "[encoded data removed]",
      "text/plain": [
       "<Figure size 720x360 with 1 Axes>"
      ]
     },
     "metadata": {},
     "output_type": "display_data"
    }
   ],
   "source": [
    "account_length_by_month = round(df['account length']/30)\n",
    "fig, ax = plt.subplots(figsize=(10,5))\n",
    "\n",
    "ax= sns.countplot(x=account_length_by_month, data=df, hue='churn', palette='plasma', )\n",
    "ax.set_title('Account Length Vs Churn')\n",
    "ax.set_xlabel('Account length in months')\n",
    "ax.set_ylabel('Length count')"
   ]
  },
  {
   "cell_type": "markdown",
   "metadata": {},
   "source": [
    "Majority of the customers who churn , do so between 3 to 4 months. Majority of the accounts are also held for 3 to 4 months.Most of those who have had their accounts for this period of time do not churn"
   ]
  },
  {
   "cell_type": "markdown",
   "metadata": {},
   "source": [
    "#### summary of EDA \n",
    "\n",
    "* From the analysis above it is evident that the areas explored need to be considered when improving services of the company.\n",
    "* More features will be explored in modelling to add on to the recommendations."
   ]
  },
  {
   "cell_type": "markdown",
   "metadata": {},
   "source": [
    "### PREPROCESSING"
   ]
  },
  {
   "cell_type": "markdown",
   "metadata": {},
   "source": [
    "This is where we will prepare the data for modelling "
   ]
  },
  {
   "cell_type": "markdown",
   "metadata": {},
   "source": [
    "#### Feature Engineering \n",
    "\n",
    "Feature engineering is the process of selecting and transforming the input variables of the dataset in order to improve machine learning algorithm performance.\n",
    "\n",
    "For this project the process involves merging related features thus making the dataset less redundant\n",
    "\n",
    "Based on telecom domain knowledge, the following features may be relevant for churn prediction:\n",
    "> * state - The geographic location of the customer could potentially play a role in churn behavior, as different states may have varying levels of competition, coverage, or customer preferences.\n",
    "> * account length - The duration of the customer's account with the telecom company may provide insights into customer loyalty and the likelihood of churn.\n",
    "> * international plan - This feature indicates whether the customer has an international calling plan.\n",
    "> * voice mail plan and number vmail messages - These features capture whether the customer has a voicemail plan and the number of voicemail messages.\n",
    "> * customer service calls - The number of customer service calls made by the customer could indicate dissatisfaction or issues that may lead to churn.\n",
    "> * 'total day minutes', 'total day calls', 'total day charge', 'total eve minutes', 'total eve calls', 'total eve charge', 'total night minutes', 'total night calls', 'total night charge', 'total intl minutes', 'total intl calls', 'total intl charge': These features represent the usage and charges for different time periods (day, evening, night, international). Usage patterns and charges across different time periods can provide insights into customer behavior and preferences."
   ]
  },
  {
   "cell_type": "code",
   "execution_count": 13,
   "metadata": {},
   "outputs": [
    {
     "data": {
      "text/html": [
       "<div>\n",
       "<style scoped>\n",
       "    .dataframe tbody tr th:only-of-type {\n",
       "        vertical-align: middle;\n",
       "    }\n",
       "\n",
       "    .dataframe tbody tr th {\n",
       "        vertical-align: top;\n",
       "    }\n",
       "\n",
       "    .dataframe thead th {\n",
       "        text-align: right;\n",
       "    }\n",
       "</style>\n",
       "<table border=\"1\" class=\"dataframe\">\n",
       "  <thead>\n",
       "    <tr style=\"text-align: right;\">\n",
       "      <th></th>\n",
       "      <th>state</th>\n",
       "      <th>account length</th>\n",
       "      <th>area code</th>\n",
       "      <th>phone number</th>\n",
       "      <th>international plan</th>\n",
       "      <th>voice mail plan</th>\n",
       "      <th>number vmail messages</th>\n",
       "      <th>total day calls</th>\n",
       "      <th>customer service calls</th>\n",
       "      <th>churn</th>\n",
       "      <th>total charges</th>\n",
       "      <th>total minutes</th>\n",
       "      <th>total calls</th>\n",
       "    </tr>\n",
       "  </thead>\n",
       "  <tbody>\n",
       "    <tr>\n",
       "      <th>0</th>\n",
       "      <td>KS</td>\n",
       "      <td>128</td>\n",
       "      <td>415</td>\n",
       "      <td>382-4657</td>\n",
       "      <td>no</td>\n",
       "      <td>yes</td>\n",
       "      <td>25</td>\n",
       "      <td>110</td>\n",
       "      <td>1</td>\n",
       "      <td>False</td>\n",
       "      <td>75.56</td>\n",
       "      <td>717.2</td>\n",
       "      <td>303</td>\n",
       "    </tr>\n",
       "    <tr>\n",
       "      <th>1</th>\n",
       "      <td>OH</td>\n",
       "      <td>107</td>\n",
       "      <td>415</td>\n",
       "      <td>371-7191</td>\n",
       "      <td>no</td>\n",
       "      <td>yes</td>\n",
       "      <td>26</td>\n",
       "      <td>123</td>\n",
       "      <td>1</td>\n",
       "      <td>False</td>\n",
       "      <td>59.24</td>\n",
       "      <td>625.2</td>\n",
       "      <td>332</td>\n",
       "    </tr>\n",
       "    <tr>\n",
       "      <th>2</th>\n",
       "      <td>NJ</td>\n",
       "      <td>137</td>\n",
       "      <td>415</td>\n",
       "      <td>358-1921</td>\n",
       "      <td>no</td>\n",
       "      <td>no</td>\n",
       "      <td>0</td>\n",
       "      <td>114</td>\n",
       "      <td>0</td>\n",
       "      <td>False</td>\n",
       "      <td>62.29</td>\n",
       "      <td>539.4</td>\n",
       "      <td>333</td>\n",
       "    </tr>\n",
       "    <tr>\n",
       "      <th>3</th>\n",
       "      <td>OH</td>\n",
       "      <td>84</td>\n",
       "      <td>408</td>\n",
       "      <td>375-9999</td>\n",
       "      <td>yes</td>\n",
       "      <td>no</td>\n",
       "      <td>0</td>\n",
       "      <td>71</td>\n",
       "      <td>2</td>\n",
       "      <td>False</td>\n",
       "      <td>66.80</td>\n",
       "      <td>564.8</td>\n",
       "      <td>255</td>\n",
       "    </tr>\n",
       "    <tr>\n",
       "      <th>4</th>\n",
       "      <td>OK</td>\n",
       "      <td>75</td>\n",
       "      <td>415</td>\n",
       "      <td>330-6626</td>\n",
       "      <td>yes</td>\n",
       "      <td>no</td>\n",
       "      <td>0</td>\n",
       "      <td>113</td>\n",
       "      <td>3</td>\n",
       "      <td>False</td>\n",
       "      <td>52.09</td>\n",
       "      <td>512.0</td>\n",
       "      <td>359</td>\n",
       "    </tr>\n",
       "  </tbody>\n",
       "</table>\n",
       "</div>"
      ],
      "text/plain": [
       "  state  account length  area code phone number international plan  \\\n",
       "0    KS             128        415     382-4657                 no   \n",
       "1    OH             107        415     371-7191                 no   \n",
       "2    NJ             137        415     358-1921                 no   \n",
       "3    OH              84        408     375-9999                yes   \n",
       "4    OK              75        415     330-6626                yes   \n",
       "\n",
       "  voice mail plan  number vmail messages  total day calls  \\\n",
       "0             yes                     25              110   \n",
       "1             yes                     26              123   \n",
       "2              no                      0              114   \n",
       "3              no                      0               71   \n",
       "4              no                      0              113   \n",
       "\n",
       "   customer service calls  churn  total charges  total minutes  total calls  \n",
       "0                       1  False          75.56          717.2          303  \n",
       "1                       1  False          59.24          625.2          332  \n",
       "2                       0  False          62.29          539.4          333  \n",
       "3                       2  False          66.80          564.8          255  \n",
       "4                       3  False          52.09          512.0          359  "
      ]
     },
     "execution_count": 13,
     "metadata": {},
     "output_type": "execute_result"
    }
   ],
   "source": [
    "# Merge all call activity and charges\n",
    "df['total charges'] = df['total day charge'] + df['total eve charge'] + df['total night charge'] + df['total intl charge']\n",
    "df['total minutes'] = df['total day minutes'] + df['total eve minutes'] + df['total night minutes'] + df['total intl minutes']\n",
    "df['total calls'] = df['total day calls'] + df['total eve calls'] + df['total night calls'] + df['total intl calls']\n",
    "\n",
    "# Drop the original features\n",
    "df.drop(['total day minutes', 'total eve minutes', 'total night minutes', 'total intl minutes',\n",
    "           'total eve calls', 'total night calls', 'total intl calls',\n",
    "          'total day charge', 'total eve charge', 'total night charge', 'total intl charge'], axis=1, inplace=True)\n",
    "\n",
    "# check on affected changes\n",
    "df.head()"
   ]
  },
  {
   "cell_type": "markdown",
   "metadata": {},
   "source": [
    "\n",
    "### One-Hot Encoding \n",
    "One-Hot Encoding is a technique for converting the categorical variables with no inherent order into a format that is readable to the machine learning algorithm."
   ]
  },
  {
   "cell_type": "code",
   "execution_count": 14,
   "metadata": {},
   "outputs": [
    {
     "name": "stdout",
     "output_type": "stream",
     "text": [
      "Index(['state', 'account length', 'area code', 'phone number',\n",
      "       'international plan', 'voice mail plan', 'number vmail messages',\n",
      "       'total day calls', 'customer service calls', 'churn', 'total charges',\n",
      "       'total minutes', 'total calls'],\n",
      "      dtype='object')\n"
     ]
    }
   ],
   "source": [
    "print (df.columns)"
   ]
  },
  {
   "cell_type": "code",
   "execution_count": 15,
   "metadata": {},
   "outputs": [
    {
     "name": "stdout",
     "output_type": "stream",
     "text": [
      "   state  account length  area code  international plan  voice mail plan  \\\n",
      "0     16             128        415                   0                1   \n",
      "1     35             107        415                   0                1   \n",
      "2     31             137        415                   0                0   \n",
      "3     35              84        408                   1                0   \n",
      "4     36              75        415                   1                0   \n",
      "\n",
      "   number vmail messages  total day calls  customer service calls  churn  \\\n",
      "0                     25              110                       1  False   \n",
      "1                     26              123                       1  False   \n",
      "2                      0              114                       0  False   \n",
      "3                      0               71                       2  False   \n",
      "4                      0              113                       3  False   \n",
      "\n",
      "   total charges  total minutes  total calls  \n",
      "0          75.56          717.2          303  \n",
      "1          59.24          625.2          332  \n",
      "2          62.29          539.4          333  \n",
      "3          66.80          564.8          255  \n",
      "4          52.09          512.0          359  \n"
     ]
    }
   ],
   "source": [
    "# Encode binary categorical variables\n",
    "df['international plan'] = df['international plan'].map({'yes': 1, 'no': 0})\n",
    "df['voice mail plan'] = df['voice mail plan'].map({'yes': 1, 'no': 0})\n",
    "\n",
    "# Drop the \"phone number\" column\n",
    "df.drop(columns=['phone number'], inplace=True)\n",
    "\n",
    "# If using label encoding for \"state\" column\n",
    "\n",
    "label_encoder = LabelEncoder()\n",
    "df['state'] = label_encoder.fit_transform(df['state'])\n",
    "\n",
    "\n",
    "# Verify the changes\n",
    "print(df.head())"
   ]
  },
  {
   "cell_type": "markdown",
   "metadata": {},
   "source": [
    "### Scaling the data\n",
    "\n",
    "This is an important step in ensuring numerical features are of similar scale. This step takes into account machine learning algorithms that are sensitive to scales like K-Nearest Neighbors and Support Vector machines."
   ]
  },
  {
   "cell_type": "code",
   "execution_count": 16,
   "metadata": {},
   "outputs": [
    {
     "data": {
      "text/html": [
       "<div>\n",
       "<style scoped>\n",
       "    .dataframe tbody tr th:only-of-type {\n",
       "        vertical-align: middle;\n",
       "    }\n",
       "\n",
       "    .dataframe tbody tr th {\n",
       "        vertical-align: top;\n",
       "    }\n",
       "\n",
       "    .dataframe thead th {\n",
       "        text-align: right;\n",
       "    }\n",
       "</style>\n",
       "<table border=\"1\" class=\"dataframe\">\n",
       "  <thead>\n",
       "    <tr style=\"text-align: right;\">\n",
       "      <th></th>\n",
       "      <th>state</th>\n",
       "      <th>account length</th>\n",
       "      <th>area code</th>\n",
       "      <th>international plan</th>\n",
       "      <th>voice mail plan</th>\n",
       "      <th>number vmail messages</th>\n",
       "      <th>total day calls</th>\n",
       "      <th>customer service calls</th>\n",
       "      <th>churn</th>\n",
       "      <th>total charges</th>\n",
       "      <th>total minutes</th>\n",
       "      <th>total calls</th>\n",
       "    </tr>\n",
       "  </thead>\n",
       "  <tbody>\n",
       "    <tr>\n",
       "      <th>0</th>\n",
       "      <td>0.32</td>\n",
       "      <td>0.524793</td>\n",
       "      <td>0.068627</td>\n",
       "      <td>0.0</td>\n",
       "      <td>1.0</td>\n",
       "      <td>0.490196</td>\n",
       "      <td>0.666667</td>\n",
       "      <td>0.111111</td>\n",
       "      <td>False</td>\n",
       "      <td>0.718793</td>\n",
       "      <td>0.720659</td>\n",
       "      <td>0.497778</td>\n",
       "    </tr>\n",
       "    <tr>\n",
       "      <th>1</th>\n",
       "      <td>0.70</td>\n",
       "      <td>0.438017</td>\n",
       "      <td>0.068627</td>\n",
       "      <td>0.0</td>\n",
       "      <td>1.0</td>\n",
       "      <td>0.509804</td>\n",
       "      <td>0.745455</td>\n",
       "      <td>0.111111</td>\n",
       "      <td>False</td>\n",
       "      <td>0.495903</td>\n",
       "      <td>0.567505</td>\n",
       "      <td>0.626667</td>\n",
       "    </tr>\n",
       "    <tr>\n",
       "      <th>2</th>\n",
       "      <td>0.62</td>\n",
       "      <td>0.561983</td>\n",
       "      <td>0.068627</td>\n",
       "      <td>0.0</td>\n",
       "      <td>0.0</td>\n",
       "      <td>0.000000</td>\n",
       "      <td>0.690909</td>\n",
       "      <td>0.000000</td>\n",
       "      <td>False</td>\n",
       "      <td>0.537558</td>\n",
       "      <td>0.424671</td>\n",
       "      <td>0.631111</td>\n",
       "    </tr>\n",
       "    <tr>\n",
       "      <th>3</th>\n",
       "      <td>0.70</td>\n",
       "      <td>0.342975</td>\n",
       "      <td>0.000000</td>\n",
       "      <td>1.0</td>\n",
       "      <td>0.0</td>\n",
       "      <td>0.000000</td>\n",
       "      <td>0.430303</td>\n",
       "      <td>0.222222</td>\n",
       "      <td>False</td>\n",
       "      <td>0.599153</td>\n",
       "      <td>0.466955</td>\n",
       "      <td>0.284444</td>\n",
       "    </tr>\n",
       "    <tr>\n",
       "      <th>4</th>\n",
       "      <td>0.72</td>\n",
       "      <td>0.305785</td>\n",
       "      <td>0.068627</td>\n",
       "      <td>1.0</td>\n",
       "      <td>0.0</td>\n",
       "      <td>0.000000</td>\n",
       "      <td>0.684848</td>\n",
       "      <td>0.333333</td>\n",
       "      <td>False</td>\n",
       "      <td>0.398252</td>\n",
       "      <td>0.379058</td>\n",
       "      <td>0.746667</td>\n",
       "    </tr>\n",
       "  </tbody>\n",
       "</table>\n",
       "</div>"
      ],
      "text/plain": [
       "   state  account length  area code  international plan  voice mail plan  \\\n",
       "0   0.32        0.524793   0.068627                 0.0              1.0   \n",
       "1   0.70        0.438017   0.068627                 0.0              1.0   \n",
       "2   0.62        0.561983   0.068627                 0.0              0.0   \n",
       "3   0.70        0.342975   0.000000                 1.0              0.0   \n",
       "4   0.72        0.305785   0.068627                 1.0              0.0   \n",
       "\n",
       "   number vmail messages  total day calls  customer service calls  churn  \\\n",
       "0               0.490196         0.666667                0.111111  False   \n",
       "1               0.509804         0.745455                0.111111  False   \n",
       "2               0.000000         0.690909                0.000000  False   \n",
       "3               0.000000         0.430303                0.222222  False   \n",
       "4               0.000000         0.684848                0.333333  False   \n",
       "\n",
       "   total charges  total minutes  total calls  \n",
       "0       0.718793       0.720659     0.497778  \n",
       "1       0.495903       0.567505     0.626667  \n",
       "2       0.537558       0.424671     0.631111  \n",
       "3       0.599153       0.466955     0.284444  \n",
       "4       0.398252       0.379058     0.746667  "
      ]
     },
     "execution_count": 16,
     "metadata": {},
     "output_type": "execute_result"
    }
   ],
   "source": [
    "scaler = MinMaxScaler()\n",
    "\n",
    "# Define function for scaling a column\n",
    "def scaling(column):\n",
    "    return scaler.fit_transform(df[[column]])\n",
    "\n",
    "# Iterate through numerical columns and scale them\n",
    "for column in df.select_dtypes(include=[np.number]).columns:\n",
    "    df[[column]] = scaling(column)\n",
    "\n",
    "df.head()"
   ]
  },
  {
   "cell_type": "markdown",
   "metadata": {},
   "source": [
    "### Data Split\n",
    "\n",
    "Before modelling, the data is split into training and test sets so as to enable the model to be adaptable."
   ]
  },
  {
   "cell_type": "code",
   "execution_count": 17,
   "metadata": {},
   "outputs": [
    {
     "data": {
      "text/html": [
       "<div>\n",
       "<style scoped>\n",
       "    .dataframe tbody tr th:only-of-type {\n",
       "        vertical-align: middle;\n",
       "    }\n",
       "\n",
       "    .dataframe tbody tr th {\n",
       "        vertical-align: top;\n",
       "    }\n",
       "\n",
       "    .dataframe thead th {\n",
       "        text-align: right;\n",
       "    }\n",
       "</style>\n",
       "<table border=\"1\" class=\"dataframe\">\n",
       "  <thead>\n",
       "    <tr style=\"text-align: right;\">\n",
       "      <th></th>\n",
       "      <th>state</th>\n",
       "      <th>account length</th>\n",
       "      <th>area code</th>\n",
       "      <th>international plan</th>\n",
       "      <th>voice mail plan</th>\n",
       "      <th>number vmail messages</th>\n",
       "      <th>total day calls</th>\n",
       "      <th>customer service calls</th>\n",
       "      <th>total charges</th>\n",
       "      <th>total minutes</th>\n",
       "      <th>total calls</th>\n",
       "    </tr>\n",
       "  </thead>\n",
       "  <tbody>\n",
       "    <tr>\n",
       "      <th>0</th>\n",
       "      <td>0.32</td>\n",
       "      <td>0.524793</td>\n",
       "      <td>0.068627</td>\n",
       "      <td>0.0</td>\n",
       "      <td>1.0</td>\n",
       "      <td>0.490196</td>\n",
       "      <td>0.666667</td>\n",
       "      <td>0.111111</td>\n",
       "      <td>0.718793</td>\n",
       "      <td>0.720659</td>\n",
       "      <td>0.497778</td>\n",
       "    </tr>\n",
       "    <tr>\n",
       "      <th>1</th>\n",
       "      <td>0.70</td>\n",
       "      <td>0.438017</td>\n",
       "      <td>0.068627</td>\n",
       "      <td>0.0</td>\n",
       "      <td>1.0</td>\n",
       "      <td>0.509804</td>\n",
       "      <td>0.745455</td>\n",
       "      <td>0.111111</td>\n",
       "      <td>0.495903</td>\n",
       "      <td>0.567505</td>\n",
       "      <td>0.626667</td>\n",
       "    </tr>\n",
       "    <tr>\n",
       "      <th>2</th>\n",
       "      <td>0.62</td>\n",
       "      <td>0.561983</td>\n",
       "      <td>0.068627</td>\n",
       "      <td>0.0</td>\n",
       "      <td>0.0</td>\n",
       "      <td>0.000000</td>\n",
       "      <td>0.690909</td>\n",
       "      <td>0.000000</td>\n",
       "      <td>0.537558</td>\n",
       "      <td>0.424671</td>\n",
       "      <td>0.631111</td>\n",
       "    </tr>\n",
       "    <tr>\n",
       "      <th>3</th>\n",
       "      <td>0.70</td>\n",
       "      <td>0.342975</td>\n",
       "      <td>0.000000</td>\n",
       "      <td>1.0</td>\n",
       "      <td>0.0</td>\n",
       "      <td>0.000000</td>\n",
       "      <td>0.430303</td>\n",
       "      <td>0.222222</td>\n",
       "      <td>0.599153</td>\n",
       "      <td>0.466955</td>\n",
       "      <td>0.284444</td>\n",
       "    </tr>\n",
       "    <tr>\n",
       "      <th>4</th>\n",
       "      <td>0.72</td>\n",
       "      <td>0.305785</td>\n",
       "      <td>0.068627</td>\n",
       "      <td>1.0</td>\n",
       "      <td>0.0</td>\n",
       "      <td>0.000000</td>\n",
       "      <td>0.684848</td>\n",
       "      <td>0.333333</td>\n",
       "      <td>0.398252</td>\n",
       "      <td>0.379058</td>\n",
       "      <td>0.746667</td>\n",
       "    </tr>\n",
       "  </tbody>\n",
       "</table>\n",
       "</div>"
      ],
      "text/plain": [
       "   state  account length  area code  international plan  voice mail plan  \\\n",
       "0   0.32        0.524793   0.068627                 0.0              1.0   \n",
       "1   0.70        0.438017   0.068627                 0.0              1.0   \n",
       "2   0.62        0.561983   0.068627                 0.0              0.0   \n",
       "3   0.70        0.342975   0.000000                 1.0              0.0   \n",
       "4   0.72        0.305785   0.068627                 1.0              0.0   \n",
       "\n",
       "   number vmail messages  total day calls  customer service calls  \\\n",
       "0               0.490196         0.666667                0.111111   \n",
       "1               0.509804         0.745455                0.111111   \n",
       "2               0.000000         0.690909                0.000000   \n",
       "3               0.000000         0.430303                0.222222   \n",
       "4               0.000000         0.684848                0.333333   \n",
       "\n",
       "   total charges  total minutes  total calls  \n",
       "0       0.718793       0.720659     0.497778  \n",
       "1       0.495903       0.567505     0.626667  \n",
       "2       0.537558       0.424671     0.631111  \n",
       "3       0.599153       0.466955     0.284444  \n",
       "4       0.398252       0.379058     0.746667  "
      ]
     },
     "execution_count": 17,
     "metadata": {},
     "output_type": "execute_result"
    }
   ],
   "source": [
    "#Defining X and y\n",
    "X= df.drop(columns=['churn'],axis=1)\n",
    "y= df['churn']\n",
    "X.head()"
   ]
  },
  {
   "cell_type": "code",
   "execution_count": 18,
   "metadata": {},
   "outputs": [
    {
     "data": {
      "text/plain": [
       "0    False\n",
       "1    False\n",
       "2    False\n",
       "3    False\n",
       "4    False\n",
       "Name: churn, dtype: bool"
      ]
     },
     "execution_count": 18,
     "metadata": {},
     "output_type": "execute_result"
    }
   ],
   "source": [
    "y.head()"
   ]
  },
  {
   "cell_type": "code",
   "execution_count": 19,
   "metadata": {},
   "outputs": [
    {
     "name": "stdout",
     "output_type": "stream",
     "text": [
      "Train set size: (2666, 11)\n",
      "Test set size: (667, 11)\n"
     ]
    }
   ],
   "source": [
    "# Perform the train-test split\n",
    "X_train, X_test, y_train, y_test = train_test_split(X, y, test_size=0.2, random_state=42)\n",
    "\n",
    "# Check the shapes of the split data\n",
    "print(\"Train set size:\", X_train.shape)\n",
    "print(\"Test set size:\", X_test.shape)"
   ]
  },
  {
   "cell_type": "markdown",
   "metadata": {},
   "source": [
    "### SMOTE\n",
    "Smote is an oversampling technique that is generated for the minority class. It functions to overcome overfitting that occurs as a result of oversampling."
   ]
  },
  {
   "cell_type": "code",
   "execution_count": 20,
   "metadata": {},
   "outputs": [
    {
     "name": "stdout",
     "output_type": "stream",
     "text": [
      "Shape of X_train_smote: (4568, 11)\n",
      "\n",
      "Value counts of y_train_smote:\n",
      " True     2284\n",
      "False    2284\n",
      "Name: churn, dtype: int64\n"
     ]
    }
   ],
   "source": [
    "# instantiate smote\n",
    "\n",
    "smote = SMOTE(random_state=42)\n",
    "\n",
    "# Fit SMOTE on the training data\n",
    "X_train_smote, y_train_smote = smote.fit_resample(X_train, y_train)\n",
    "\n",
    "#  X_train_smote and y_train_smote are the feature matrix and target variable of the oversampled training data\n",
    "print(\"Shape of X_train_smote:\", X_train_smote.shape)\n",
    "print(\"\\nValue counts of y_train_smote:\\n\", y_train_smote.value_counts())"
   ]
  },
  {
   "cell_type": "markdown",
   "metadata": {},
   "source": [
    "## MODELLING"
   ]
  },
  {
   "cell_type": "markdown",
   "metadata": {},
   "source": [
    "* The problem we are dealing with is a classification problem.\n",
    "* We will explore models such as:Logistic regression, DecisionTreeClassifier and Randomforest classifier.\n",
    "* Model accuracy, precision and F1 score will be the metrics for evaluation."
   ]
  },
  {
   "cell_type": "markdown",
   "metadata": {},
   "source": [
    "### Logistic Regression\n",
    "The first model we will create is the Logistic regression.\n",
    "To check for the performance of the model, we will plot an ROC-AUC curve. The curve is a plot of True Positive Rate and the False Positive Rate. We will also create a confusion matrix.\n",
    "Firstwe will run the regression model with the data as it is."
   ]
  },
  {
   "cell_type": "code",
   "execution_count": 21,
   "metadata": {},
   "outputs": [
    {
     "data": {
      "text/plain": [
       "LogisticRegression()"
      ]
     },
     "execution_count": 21,
     "metadata": {},
     "output_type": "execute_result"
    }
   ],
   "source": [
    "#Logistic Regression Model.\n",
    "#Instantiating\n",
    "base_model=LogisticRegression()\n",
    "#fitting the model\n",
    "base_model.fit(X_train,y_train)"
   ]
  },
  {
   "cell_type": "code",
   "execution_count": 22,
   "metadata": {},
   "outputs": [
    {
     "name": "stdout",
     "output_type": "stream",
     "text": [
      "Accuracy: 0.856071964017991\n",
      "Recall: 0.16831683168316833\n",
      "F1 Score: 0.26153846153846155\n",
      "Precision: 0.5862068965517241\n"
     ]
    }
   ],
   "source": [
    "#Accuracy, precision,recall and f1-score.\n",
    "y_pred=base_model.predict(X_test)\n",
    "print('Accuracy:', accuracy_score(y_test,y_pred))\n",
    "print('Recall:', recall_score(y_test,y_pred))\n",
    "print('F1 Score:', f1_score(y_test,y_pred))\n",
    "print('Precision:', precision_score(y_test,y_pred))"
   ]
  },
  {
   "cell_type": "code",
   "execution_count": 23,
   "metadata": {},
   "outputs": [
    {
     "data": {
      "text/plain": [
       "0.5735577091278031"
      ]
     },
     "execution_count": 23,
     "metadata": {},
     "output_type": "execute_result"
    }
   ],
   "source": [
    "\n",
    "# Check the AUC of predictions\n",
    "false_positive_rate, true_positive_rate, thresholds = roc_curve(y_test, y_pred)\n",
    "AUC = auc(false_positive_rate, true_positive_rate)\n",
    "AUC"
   ]
  },
  {
   "cell_type": "code",
   "execution_count": 24,
   "metadata": {},
   "outputs": [
    {
     "data": {
      "text/plain": [
       "Text(0.5, 1.0, 'Confusion matrix')"
      ]
     },
     "execution_count": 24,
     "metadata": {},
     "output_type": "execute_result"
    },
    {
     "data": {
      "text/plain": [
       "<Figure size 720x360 with 0 Axes>"
      ]
     },
     "metadata": {},
     "output_type": "display_data"
    },
    {
     "data": {
      "image/png": "[encoded data removed]",
      "text/plain": [
       "<Figure size 576x396 with 2 Axes>"
      ]
     },
     "metadata": {},
     "output_type": "display_data"
    }
   ],
   "source": [
    "#Plotting a confusion matrix\n",
    "plt.figure(figsize=(10,5))\n",
    "plot_confusion_matrix(base_model,X_test,y_test)\n",
    "plt.grid(False)\n",
    "plt.title('Confusion matrix')"
   ]
  },
  {
   "cell_type": "markdown",
   "metadata": {},
   "source": [
    "From the above analysis of the logistic regression, we can see that the model is 86% accurate which is good. However, the f1 score and the recall score are too low. It is also evident that there is a high number of false positives(Those who were said to churn but did not actually churn) at 84. The AUC score is at 57% which is somehow low. "
   ]
  },
  {
   "cell_type": "code",
   "execution_count": 25,
   "metadata": {},
   "outputs": [],
   "source": [
    "# Rescaling and resampling the data \n",
    "ss = StandardScaler()\n",
    "X_train_scaled = ss.fit_transform(X_train)\n",
    "X_test_scaled= ss.transform(X_test)"
   ]
  },
  {
   "cell_type": "code",
   "execution_count": 26,
   "metadata": {},
   "outputs": [],
   "source": [
    "smote = SMOTE(random_state=42,sampling_strategy=0.28)\n",
    "X_train_sm,y_train_sm=smote.fit_resample(X_train_scaled,y_train)"
   ]
  },
  {
   "cell_type": "markdown",
   "metadata": {},
   "source": [
    "### Logistic Regression after scaling and resampling"
   ]
  },
  {
   "cell_type": "code",
   "execution_count": 27,
   "metadata": {},
   "outputs": [
    {
     "data": {
      "text/plain": [
       "LogisticRegression(fit_intercept=False, penalty='l1', random_state=42,\n",
       "                   solver='liblinear')"
      ]
     },
     "execution_count": 27,
     "metadata": {},
     "output_type": "execute_result"
    }
   ],
   "source": [
    "#Fitting the model\n",
    "lr = LogisticRegression(random_state=42, fit_intercept = False, C = 1.0, solver = 'liblinear', penalty = 'l1')\n",
    "lr.fit(X_train_sm,y_train_sm)"
   ]
  },
  {
   "cell_type": "code",
   "execution_count": 28,
   "metadata": {},
   "outputs": [
    {
     "data": {
      "image/png": "[encoded data removed]",
      "text/plain": [
       "<Figure size 576x396 with 2 Axes>"
      ]
     },
     "metadata": {},
     "output_type": "display_data"
    }
   ],
   "source": [
    "#Confusion matrix\n",
    "plot_confusion_matrix(base_model,X_test_scaled,y_test,);\n",
    "plt.grid(False)\n",
    "plt.title('Resampled Confusion Matrix')\n",
    "plt.show()"
   ]
  },
  {
   "cell_type": "code",
   "execution_count": 29,
   "metadata": {},
   "outputs": [
    {
     "name": "stdout",
     "output_type": "stream",
     "text": [
      "Accuracy: 0.6761619190404797\n",
      "Recall: 0.8712871287128713\n",
      "F1 Score: 0.44897959183673464\n",
      "Precision: 0.3024054982817869\n",
      "AUC Score: 0.756314942448308\n"
     ]
    }
   ],
   "source": [
    "#Measuring the accuracy, precision,recall and f1-score.\n",
    "y_hat=lr.predict(X_test_scaled)\n",
    "print('Accuracy:', accuracy_score(y_test,y_hat))\n",
    "print('Recall:', recall_score(y_test,y_hat))\n",
    "print('F1 Score:', f1_score(y_test,y_hat))\n",
    "print('Precision:', precision_score(y_test,y_hat))\n",
    "\n",
    "y_predicted = lr.predict(X_test_scaled)\n",
    "\n",
    "# Check the AUC of predictions\n",
    "false_positive_rate, true_positive_rate, thresholds = roc_curve(y_test, y_predicted)\n",
    "AUC_Score = auc(false_positive_rate, true_positive_rate)\n",
    "print(f\"AUC Score: {AUC_Score:.15f}\")\n"
   ]
  },
  {
   "cell_type": "markdown",
   "metadata": {},
   "source": [
    "From the above grid we can see that the accuracy has dropped to 68%.\n",
    "\n",
    "The F1 score and the Precision have also improved to 45% and 30% respectively\n",
    "\n",
    "The AUC has also improved to 76% which is wat better"
   ]
  },
  {
   "cell_type": "markdown",
   "metadata": {},
   "source": [
    "###  Decision Trees\n",
    "\n",
    "Decision trees are non-parametric supervised learning models. They can be used for both classification and regression tasks."
   ]
  },
  {
   "cell_type": "code",
   "execution_count": 30,
   "metadata": {},
   "outputs": [
    {
     "name": "stdout",
     "output_type": "stream",
     "text": [
      "Decision Tree Evaluation Metrics:\n",
      "Accuracy: 0.9145427286356822\n",
      "Precision: 0.7\n",
      "Recall: 0.7623762376237624\n",
      "F1-score: 0.7298578199052131\n",
      "AUC Score: 0.8520361753489837\n"
     ]
    }
   ],
   "source": [
    "# Initialize the decision tree model\n",
    "tree_model = DecisionTreeClassifier(random_state=42)\n",
    "\n",
    "# Train the model on the training data\n",
    "tree_model.fit(X_train, y_train)\n",
    "\n",
    "# Predict labels for the testing data\n",
    "y_pred_tree = tree_model.predict(X_test)\n",
    "\n",
    "# Evaluate performance on testing data\n",
    "accuracy_tree = accuracy_score(y_test, y_pred_tree)\n",
    "precision_tree = precision_score(y_test, y_pred_tree)\n",
    "recall_tree = recall_score(y_test, y_pred_tree)\n",
    "f1_tree = f1_score(y_test, y_pred_tree)\n",
    "roc_auc_tree = roc_auc_score(y_test, y_pred_tree)\n",
    "\n",
    "# Print evaluation metrics\n",
    "print(\"Decision Tree Evaluation Metrics:\")\n",
    "print(\"Accuracy:\", accuracy_tree)\n",
    "print(\"Precision:\", precision_tree)\n",
    "print(\"Recall:\", recall_tree)\n",
    "print(\"F1-score:\", f1_tree)\n",
    "print(\"AUC Score:\", roc_auc_tree)"
   ]
  },
  {
   "cell_type": "code",
   "execution_count": 54,
   "metadata": {},
   "outputs": [
    {
     "data": {
      "image/png": "[encoded data removed]",
      "text/plain": [
       "<Figure size 576x432 with 2 Axes>"
      ]
     },
     "metadata": {},
     "output_type": "display_data"
    }
   ],
   "source": [
    "from sklearn.metrics import confusion_matrix\n",
    "# Compute confusion matrix\n",
    "conf_matrix_tree = confusion_matrix(y_test, y_pred_tree)\n",
    "\n",
    "# Plot confusion matrix\n",
    "plt.figure(figsize=(8, 6))\n",
    "sns.heatmap(conf_matrix_tree, annot=True, fmt='d', cmap='seismic')\n",
    "plt.xlabel('Predicted Label')\n",
    "plt.ylabel('True Label')\n",
    "plt.title('Confusion Matrix - Decision Tree (Testing Data)')\n",
    "plt.show()"
   ]
  },
  {
   "cell_type": "markdown",
   "metadata": {},
   "source": [
    "From the data above we can conclude that this is a really good model."
   ]
  },
  {
   "cell_type": "markdown",
   "metadata": {},
   "source": [
    "### RANDOM FOREST "
   ]
  },
  {
   "cell_type": "code",
   "execution_count": 32,
   "metadata": {},
   "outputs": [],
   "source": [
    "# Initialize the standard scaler\n",
    "scaler = StandardScaler()\n",
    "\n",
    "# Scale the features\n",
    "X_train_scaled = scaler.fit_transform(X_train)\n",
    "X_test_scaled = scaler.transform(X_test)\n",
    "\n",
    "# Random Forest Classifier Initialization\n",
    "rf = RandomForestClassifier(n_estimators=100, random_state=42)\n",
    "\n",
    "# Train the classifier\n",
    "rf.fit(X_train_scaled, y_train)\n",
    "\n",
    "# Make predictions\n",
    "y_pred = rf.predict(X_test_scaled)"
   ]
  },
  {
   "cell_type": "code",
   "execution_count": 33,
   "metadata": {},
   "outputs": [
    {
     "name": "stdout",
     "output_type": "stream",
     "text": [
      "Accuracy: 0.9460269865067467\n",
      "Precision: 0.9454694949822385\n",
      "Recall: 0.9460269865067467\n",
      "F1-score: 0.942646258123882\n"
     ]
    }
   ],
   "source": [
    "# Performance Evaluation\n",
    "accuracy_rf = accuracy_score(y_test, y_pred)\n",
    "precision_rf = precision_score(y_test, y_pred, average='weighted')  # Specify average parameter\n",
    "recall_rf = recall_score(y_test, y_pred, average='weighted')  # Specify average parameter\n",
    "f1_rf = f1_score(y_test, y_pred, average='weighted')  # Specify average parameter\n",
    "\n",
    "# Print evaluation metrics\n",
    "print(\"Accuracy:\", accuracy_rf)\n",
    "print(\"Precision:\", precision_rf)\n",
    "print(\"Recall:\", recall_rf)\n",
    "print(\"F1-score:\", f1_rf)"
   ]
  },
  {
   "cell_type": "markdown",
   "metadata": {},
   "source": [
    "#### Cross-Validadtion"
   ]
  },
  {
   "cell_type": "code",
   "execution_count": 34,
   "metadata": {},
   "outputs": [
    {
     "name": "stdout",
     "output_type": "stream",
     "text": [
      "Cross-Validation Accuracy: 0.9444856687114841\n"
     ]
    }
   ],
   "source": [
    "# Cross-validation to address overfitting\n",
    "k = 5  # Number of folds\n",
    "cv_scores = cross_val_score(rf, X_train_scaled, y_train, cv=k, scoring='accuracy')\n",
    "\n",
    "# Cross-Validation Accuracy\n",
    "accuracy_rf_cv = np.mean(cv_scores)\n",
    "\n",
    "# Print cross-validation accuracy\n",
    "print(\"Cross-Validation Accuracy:\", accuracy_rf_cv)"
   ]
  },
  {
   "cell_type": "code",
   "execution_count": 35,
   "metadata": {},
   "outputs": [
    {
     "name": "stdout",
     "output_type": "stream",
     "text": [
      "Classification Report:\n",
      "              precision    recall  f1-score   support\n",
      "\n",
      "       False       0.95      0.99      0.97       566\n",
      "        True       0.93      0.69      0.80       101\n",
      "\n",
      "    accuracy                           0.95       667\n",
      "   macro avg       0.94      0.84      0.88       667\n",
      "weighted avg       0.95      0.95      0.94       667\n",
      "\n"
     ]
    }
   ],
   "source": [
    "# Generate predictions using the random forest classifier\n",
    "y_pred_rf = rf.predict(X_test_scaled)\n",
    "\n",
    "# Import necessary libraries for the classification report\n",
    "from sklearn.metrics import classification_report\n",
    "\n",
    "# Print the classification report\n",
    "print(\"Classification Report:\")\n",
    "print(classification_report(y_test, y_pred_rf))"
   ]
  },
  {
   "cell_type": "code",
   "execution_count": 36,
   "metadata": {},
   "outputs": [
    {
     "data": {
      "image/png": "[encoded data removed]",
      "text/plain": [
       "<Figure size 576x432 with 2 Axes>"
      ]
     },
     "metadata": {},
     "output_type": "display_data"
    }
   ],
   "source": [
    "# Compute confusion matrix\n",
    "conf_matrix = confusion_matrix(y_test, y_pred)\n",
    "\n",
    "# Plot confusion matrix\n",
    "plt.figure(figsize=(8, 6))\n",
    "sns.heatmap(conf_matrix, annot=True, fmt='d', cmap='Oranges')\n",
    "plt.xlabel('Predicted Label')\n",
    "plt.ylabel('True Label')\n",
    "plt.title('Confusion Matrix')\n",
    "plt.show()"
   ]
  },
  {
   "cell_type": "markdown",
   "metadata": {},
   "source": [
    "The model is not performing well as there seems to be overfitting "
   ]
  },
  {
   "cell_type": "markdown",
   "metadata": {},
   "source": [
    "### EVALUATION"
   ]
  },
  {
   "cell_type": "markdown",
   "metadata": {},
   "source": [
    "###  Recall Score\n",
    "This is a measure of how many positive instances the model correctly identifies. \n",
    "\n",
    "A high recall indicates a better model."
   ]
  },
  {
   "cell_type": "code",
   "execution_count": 38,
   "metadata": {},
   "outputs": [
    {
     "name": "stdout",
     "output_type": "stream",
     "text": [
      "                          recall\n",
      "classifiers                     \n",
      "LogisticRegression      0.168317\n",
      "DecisionTreeClassifier  0.762376\n",
      "RandomForestClassifier  0.693069\n"
     ]
    }
   ],
   "source": [
    "np.random.seed(42)\n",
    "\n",
    "classifiers = [LogisticRegression(),\n",
    "               DecisionTreeClassifier(),\n",
    "               RandomForestClassifier()]\n",
    "\n",
    "# Define a result table as a DataFrame\n",
    "result_table = pd.DataFrame(columns=['classifiers', 'recall'])\n",
    "\n",
    "# Train the models and record the results\n",
    "for cls in classifiers:\n",
    "    model = cls\n",
    "    model.fit(X_train, y_train)  # Pass X_train and y_train to the fit method\n",
    "    y_pred = model.predict(X_test)\n",
    "    \n",
    "    recall = recall_score(y_test, y_pred)\n",
    "    \n",
    "    result_table = pd.concat([result_table, pd.DataFrame({'classifiers': [cls.__class__.__name__], 'recall': [recall]})], ignore_index=True)\n",
    "\n",
    "# Set the name of the classifiers as index labels\n",
    "result_table.set_index('classifiers', inplace=True)\n",
    "\n",
    "# Print the result table\n",
    "print(result_table)"
   ]
  },
  {
   "cell_type": "code",
   "execution_count": null,
   "metadata": {},
   "outputs": [],
   "source": [
    "The data above shows that the decision tree classifier is the best model"
   ]
  },
  {
   "cell_type": "markdown",
   "metadata": {},
   "source": [
    "### HYPERPARAMETER TUNING \n",
    "This is done to make it more efficient\n",
    "\n",
    "we will achieve this using GridSearch"
   ]
  },
  {
   "cell_type": "code",
   "execution_count": 40,
   "metadata": {},
   "outputs": [
    {
     "name": "stdout",
     "output_type": "stream",
     "text": [
      "Best Decision Tree Evaluation Metrics:\n",
      "Accuracy: 0.9430284857571214\n",
      "Precision: 0.8888888888888888\n",
      "Recall: 0.7128712871287128\n",
      "F1-score: 0.7912087912087912\n",
      "ROC-AUC Score: 0.8484851135290208\n"
     ]
    }
   ],
   "source": [
    "# Initialize the decision tree model\n",
    "from sklearn.metrics import make_scorer, accuracy_score, precision_score, recall_score\n",
    "tree_model = DecisionTreeClassifier(random_state=42)\n",
    "\n",
    "# Define the hyperparameter search space\n",
    "param_dist = {\n",
    "    'criterion': ['gini', 'entropy'],\n",
    "    'splitter': ['best', 'random'],\n",
    "    'max_depth': [None, 10, 20, 30, 40, 50],\n",
    "    'min_samples_split': [2, 5, 10],\n",
    "    'min_samples_leaf': [1, 2, 4]\n",
    "}\n",
    "\n",
    "# Define the evaluation metrics\n",
    "scoring_metrics = {\n",
    "    'accuracy': make_scorer(accuracy_score),\n",
    "    'precision': make_scorer(precision_score),\n",
    "    'recall': make_scorer(recall_score),\n",
    "    'f1': make_scorer(f1_score),\n",
    "    'roc_auc': make_scorer(roc_auc_score)\n",
    "}\n",
    "\n",
    "# Initialize RandomizedSearchCV with 'accuracy' as the metric for refit\n",
    "random_search = RandomizedSearchCV(\n",
    "    tree_model,\n",
    "    param_distributions=param_dist,\n",
    "    scoring='accuracy',  # Specify a single scoring metric for refit\n",
    "    n_iter=10,\n",
    "    cv=5,\n",
    "    random_state=42,\n",
    "    refit=True  # Refit the best model with the best hyperparameters on the entire dataset\n",
    ")\n",
    "\n",
    "# Fit the RandomizedSearchCV on the training data\n",
    "random_search.fit(X_train, y_train)\n",
    "\n",
    "# Get the best model from the search\n",
    "best_tree_model = random_search.best_estimator_\n",
    "\n",
    "# Predict labels for the testing data using the best model\n",
    "y_pred_best_tree = best_tree_model.predict(X_test)\n",
    "\n",
    "# Evaluate performance on testing data using the best model\n",
    "accuracy_best_tree = accuracy_score(y_test, y_pred_best_tree)\n",
    "precision_best_tree = precision_score(y_test, y_pred_best_tree)\n",
    "recall_best_tree = recall_score(y_test, y_pred_best_tree)\n",
    "f1_best_tree = f1_score(y_test, y_pred_best_tree)\n",
    "roc_auc_best_tree = roc_auc_score(y_test, y_pred_best_tree)\n",
    "\n",
    "# Print evaluation metrics for the best model\n",
    "print(\"Best Decision Tree Evaluation Metrics:\")\n",
    "print(\"Accuracy:\", accuracy_best_tree)\n",
    "print(\"Precision:\", precision_best_tree)\n",
    "print(\"Recall:\", recall_best_tree)\n",
    "print(\"F1-score:\", f1_best_tree)\n",
    "print(\"ROC-AUC Score:\", roc_auc_best_tree)"
   ]
  },
  {
   "cell_type": "markdown",
   "metadata": {},
   "source": [
    "The model has improved with a new accuracy score of 94% and a precision score of 89% "
   ]
  },
  {
   "cell_type": "markdown",
   "metadata": {},
   "source": [
    "### Plotting the feature importance graph"
   ]
  },
  {
   "cell_type": "code",
   "execution_count": 46,
   "metadata": {},
   "outputs": [
    {
     "data": {
      "image/png": "[encoded data removed]",
      "text/plain": [
       "<Figure size 720x432 with 1 Axes>"
      ]
     },
     "metadata": {},
     "output_type": "display_data"
    }
   ],
   "source": [
    "# feature importance\n",
    "\n",
    "# Fit the best Decision Tree model on the entire training data\n",
    "best_tree_model.fit(X_train, y_train)\n",
    "\n",
    "# Get feature importances\n",
    "feature_importances = best_tree_model.feature_importances_\n",
    "\n",
    "# Create a DataFrame to display feature names and their importances\n",
    "feature_importance_df = pd.DataFrame({'Feature': X_train.columns, 'Importance': feature_importances})\n",
    "\n",
    "# Sort features by importance in descending order\n",
    "feature_importance_df = feature_importance_df.sort_values(by='Importance', ascending=False)\n",
    "\n",
    "# Plot feature importance\n",
    "plt.figure(figsize=(10, 6))\n",
    "sns.barplot(x='Importance', y='Feature', data=feature_importance_df, palette='viridis')\n",
    "plt.title('Feature Importance - Best Decision Tree Model')\n",
    "plt.show()"
   ]
  },
  {
   "cell_type": "markdown",
   "metadata": {},
   "source": [
    "From the graph we can tell that the features that have influence churning are:\n",
    "    \n",
    "    *Total day charge\n",
    "    \n",
    "    *Customer service calls\n",
    "    \n",
    "    *voicemail plan\n",
    "    \n",
    "    *International plan\n",
    "    \n",
    "    *Total calls\n",
    "    "
   ]
  },
  {
   "cell_type": "markdown",
   "metadata": {},
   "source": [
    "### CONCLUSION AND RECOMMENDATIONS\n",
    "After our analysiswe have found that the best model is the decision tree model.\n",
    "\n",
    "the features that lead to higher churning have been found to include the total day charge, customer service calls, voicemail plan, international plan and total calls "
   ]
  },
  {
   "cell_type": "markdown",
   "metadata": {},
   "source": [
    "### RECOMMENDATIONS\n",
    "Some recommendations to reduce customer churn include:\n",
    "\n",
    "    1.To reduce the total day charge or give incentive by offering bonuses and promotions together with loyalty programs.\n",
    "    2.To train their customer service staff in ways to deal with the customers better\n",
    "    3.To come up with good and affordable packages for international and voicemail plans."
   ]
  },
  {
   "cell_type": "code",
   "execution_count": null,
   "metadata": {},
   "outputs": [],
   "source": []
  },
  {
   "cell_type": "code",
   "execution_count": null,
   "metadata": {},
   "outputs": [],
   "source": []
  }
 ],
 "metadata": {
  "kernelspec": {
   "display_name": "Python (learn-env)",
   "language": "python",
   "name": "learn-env"
  },
  "language_info": {
   "codemirror_mode": {
    "name": "ipython",
    "version": 3
   },
   "file_extension": ".py",
   "mimetype": "text/x-python",
   "name": "python",
   "nbconvert_exporter": "python",
   "pygments_lexer": "ipython3",
   "version": "3.8.5"
  }
 },
 "nbformat": 4,
 "nbformat_minor": 4
}
